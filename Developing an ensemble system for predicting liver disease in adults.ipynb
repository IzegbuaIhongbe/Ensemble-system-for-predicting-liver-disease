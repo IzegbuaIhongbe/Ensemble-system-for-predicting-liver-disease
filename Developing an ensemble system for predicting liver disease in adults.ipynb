{
 "cells": [
  {
   "cell_type": "markdown",
   "id": "2e06db05",
   "metadata": {},
   "source": [
    "# Developing an ensemble system to predict liver disease in adults\n",
    "\n",
    "<b>Hi!</b>\n",
    "The README file contains more information on the project, its process and data."
   ]
  },
  {
   "cell_type": "code",
   "execution_count": 57,
   "id": "af5289fd",
   "metadata": {},
   "outputs": [
    {
     "data": {
      "text/html": [
       "<div>\n",
       "<style scoped>\n",
       "    .dataframe tbody tr th:only-of-type {\n",
       "        vertical-align: middle;\n",
       "    }\n",
       "\n",
       "    .dataframe tbody tr th {\n",
       "        vertical-align: top;\n",
       "    }\n",
       "\n",
       "    .dataframe thead th {\n",
       "        text-align: right;\n",
       "    }\n",
       "</style>\n",
       "<table border=\"1\" class=\"dataframe\">\n",
       "  <thead>\n",
       "    <tr style=\"text-align: right;\">\n",
       "      <th></th>\n",
       "      <th>Patient ID</th>\n",
       "      <th>Age</th>\n",
       "      <th>Gender</th>\n",
       "      <th>Total_Bilirubin</th>\n",
       "      <th>Direct_Bilirubin</th>\n",
       "      <th>Alkaline_Phosphotase</th>\n",
       "      <th>Alamine_Aminotransferase</th>\n",
       "      <th>Aspartate_Aminotransferase</th>\n",
       "      <th>Total_Protiens</th>\n",
       "      <th>Albumin</th>\n",
       "      <th>Albumin_and_Globulin_Ratio</th>\n",
       "      <th>Disease</th>\n",
       "    </tr>\n",
       "  </thead>\n",
       "  <tbody>\n",
       "    <tr>\n",
       "      <th>0</th>\n",
       "      <td>1</td>\n",
       "      <td>65.0</td>\n",
       "      <td>Female</td>\n",
       "      <td>0.7</td>\n",
       "      <td>0.1</td>\n",
       "      <td>187.0</td>\n",
       "      <td>16.0</td>\n",
       "      <td>18.0</td>\n",
       "      <td>6.8</td>\n",
       "      <td>3.3</td>\n",
       "      <td>0.90</td>\n",
       "      <td>Yes</td>\n",
       "    </tr>\n",
       "    <tr>\n",
       "      <th>1</th>\n",
       "      <td>2</td>\n",
       "      <td>62.0</td>\n",
       "      <td>Male</td>\n",
       "      <td>10.9</td>\n",
       "      <td>5.5</td>\n",
       "      <td>699.0</td>\n",
       "      <td>64.0</td>\n",
       "      <td>100.0</td>\n",
       "      <td>7.5</td>\n",
       "      <td>3.2</td>\n",
       "      <td>0.74</td>\n",
       "      <td>Yes</td>\n",
       "    </tr>\n",
       "    <tr>\n",
       "      <th>2</th>\n",
       "      <td>3</td>\n",
       "      <td>62.0</td>\n",
       "      <td>Male</td>\n",
       "      <td>7.3</td>\n",
       "      <td>4.1</td>\n",
       "      <td>490.0</td>\n",
       "      <td>60.0</td>\n",
       "      <td>68.0</td>\n",
       "      <td>7.0</td>\n",
       "      <td>3.3</td>\n",
       "      <td>0.89</td>\n",
       "      <td>Yes</td>\n",
       "    </tr>\n",
       "    <tr>\n",
       "      <th>3</th>\n",
       "      <td>4</td>\n",
       "      <td>58.0</td>\n",
       "      <td>Male</td>\n",
       "      <td>1.0</td>\n",
       "      <td>0.4</td>\n",
       "      <td>182.0</td>\n",
       "      <td>14.0</td>\n",
       "      <td>20.0</td>\n",
       "      <td>6.8</td>\n",
       "      <td>3.4</td>\n",
       "      <td>1.00</td>\n",
       "      <td>Yes</td>\n",
       "    </tr>\n",
       "    <tr>\n",
       "      <th>4</th>\n",
       "      <td>5</td>\n",
       "      <td>72.0</td>\n",
       "      <td>Male</td>\n",
       "      <td>3.9</td>\n",
       "      <td>2.0</td>\n",
       "      <td>195.0</td>\n",
       "      <td>27.0</td>\n",
       "      <td>59.0</td>\n",
       "      <td>7.3</td>\n",
       "      <td>2.4</td>\n",
       "      <td>0.40</td>\n",
       "      <td>Yes</td>\n",
       "    </tr>\n",
       "  </tbody>\n",
       "</table>\n",
       "</div>"
      ],
      "text/plain": [
       "   Patient ID   Age  Gender  Total_Bilirubin  Direct_Bilirubin  \\\n",
       "0           1  65.0  Female              0.7               0.1   \n",
       "1           2  62.0    Male             10.9               5.5   \n",
       "2           3  62.0    Male              7.3               4.1   \n",
       "3           4  58.0    Male              1.0               0.4   \n",
       "4           5  72.0    Male              3.9               2.0   \n",
       "\n",
       "   Alkaline_Phosphotase  Alamine_Aminotransferase  Aspartate_Aminotransferase  \\\n",
       "0                 187.0                      16.0                        18.0   \n",
       "1                 699.0                      64.0                       100.0   \n",
       "2                 490.0                      60.0                        68.0   \n",
       "3                 182.0                      14.0                        20.0   \n",
       "4                 195.0                      27.0                        59.0   \n",
       "\n",
       "   Total_Protiens  Albumin  Albumin_and_Globulin_Ratio Disease  \n",
       "0             6.8      3.3                        0.90     Yes  \n",
       "1             7.5      3.2                        0.74     Yes  \n",
       "2             7.0      3.3                        0.89     Yes  \n",
       "3             6.8      3.4                        1.00     Yes  \n",
       "4             7.3      2.4                        0.40     Yes  "
      ]
     },
     "execution_count": 57,
     "metadata": {},
     "output_type": "execute_result"
    }
   ],
   "source": [
    "import pandas as pd\n",
    "import numpy as np\n",
    "import matplotlib.pyplot as plt\n",
    "#importing necessary libraries\n",
    "\n",
    "data4 = pd.read_csv('Liver_Disease_Raw_Dataset.csv') #identifying our datasets\n",
    "data4.head() #sample/first 5 rows of our datatset"
   ]
  },
  {
   "cell_type": "code",
   "execution_count": 58,
   "id": "666bda8b",
   "metadata": {},
   "outputs": [
    {
     "data": {
      "text/html": [
       "<div>\n",
       "<style scoped>\n",
       "    .dataframe tbody tr th:only-of-type {\n",
       "        vertical-align: middle;\n",
       "    }\n",
       "\n",
       "    .dataframe tbody tr th {\n",
       "        vertical-align: top;\n",
       "    }\n",
       "\n",
       "    .dataframe thead th {\n",
       "        text-align: right;\n",
       "    }\n",
       "</style>\n",
       "<table border=\"1\" class=\"dataframe\">\n",
       "  <thead>\n",
       "    <tr style=\"text-align: right;\">\n",
       "      <th></th>\n",
       "      <th>Patient ID</th>\n",
       "      <th>Age</th>\n",
       "      <th>Total_Bilirubin</th>\n",
       "      <th>Direct_Bilirubin</th>\n",
       "      <th>Alkaline_Phosphotase</th>\n",
       "      <th>Alamine_Aminotransferase</th>\n",
       "      <th>Aspartate_Aminotransferase</th>\n",
       "      <th>Total_Protiens</th>\n",
       "      <th>Albumin</th>\n",
       "      <th>Albumin_and_Globulin_Ratio</th>\n",
       "    </tr>\n",
       "  </thead>\n",
       "  <tbody>\n",
       "    <tr>\n",
       "      <th>count</th>\n",
       "      <td>1750.000000</td>\n",
       "      <td>1749.000000</td>\n",
       "      <td>1748.000000</td>\n",
       "      <td>1750.000000</td>\n",
       "      <td>1748.000000</td>\n",
       "      <td>1748.000000</td>\n",
       "      <td>1746.000000</td>\n",
       "      <td>1748.000000</td>\n",
       "      <td>1747.000000</td>\n",
       "      <td>1738.000000</td>\n",
       "    </tr>\n",
       "    <tr>\n",
       "      <th>mean</th>\n",
       "      <td>875.500000</td>\n",
       "      <td>45.213836</td>\n",
       "      <td>3.535240</td>\n",
       "      <td>1.656743</td>\n",
       "      <td>290.551487</td>\n",
       "      <td>80.719108</td>\n",
       "      <td>109.681558</td>\n",
       "      <td>6.482723</td>\n",
       "      <td>3.143045</td>\n",
       "      <td>0.946922</td>\n",
       "    </tr>\n",
       "    <tr>\n",
       "      <th>std</th>\n",
       "      <td>505.325802</td>\n",
       "      <td>18.568600</td>\n",
       "      <td>8.146868</td>\n",
       "      <td>5.347349</td>\n",
       "      <td>242.878316</td>\n",
       "      <td>182.570191</td>\n",
       "      <td>288.796591</td>\n",
       "      <td>1.085017</td>\n",
       "      <td>0.794765</td>\n",
       "      <td>0.319371</td>\n",
       "    </tr>\n",
       "    <tr>\n",
       "      <th>min</th>\n",
       "      <td>1.000000</td>\n",
       "      <td>4.000000</td>\n",
       "      <td>0.400000</td>\n",
       "      <td>0.100000</td>\n",
       "      <td>63.000000</td>\n",
       "      <td>10.000000</td>\n",
       "      <td>10.000000</td>\n",
       "      <td>2.700000</td>\n",
       "      <td>0.900000</td>\n",
       "      <td>0.300000</td>\n",
       "    </tr>\n",
       "    <tr>\n",
       "      <th>25%</th>\n",
       "      <td>438.250000</td>\n",
       "      <td>33.000000</td>\n",
       "      <td>0.800000</td>\n",
       "      <td>0.200000</td>\n",
       "      <td>175.000000</td>\n",
       "      <td>23.000000</td>\n",
       "      <td>25.000000</td>\n",
       "      <td>5.800000</td>\n",
       "      <td>2.600000</td>\n",
       "      <td>0.700000</td>\n",
       "    </tr>\n",
       "    <tr>\n",
       "      <th>50%</th>\n",
       "      <td>875.500000</td>\n",
       "      <td>45.000000</td>\n",
       "      <td>1.000000</td>\n",
       "      <td>0.300000</td>\n",
       "      <td>208.000000</td>\n",
       "      <td>35.000000</td>\n",
       "      <td>42.000000</td>\n",
       "      <td>6.600000</td>\n",
       "      <td>3.100000</td>\n",
       "      <td>0.930000</td>\n",
       "    </tr>\n",
       "    <tr>\n",
       "      <th>75%</th>\n",
       "      <td>1312.750000</td>\n",
       "      <td>58.000000</td>\n",
       "      <td>2.600000</td>\n",
       "      <td>1.300000</td>\n",
       "      <td>298.000000</td>\n",
       "      <td>61.000000</td>\n",
       "      <td>87.000000</td>\n",
       "      <td>7.200000</td>\n",
       "      <td>3.800000</td>\n",
       "      <td>1.100000</td>\n",
       "    </tr>\n",
       "    <tr>\n",
       "      <th>max</th>\n",
       "      <td>1750.000000</td>\n",
       "      <td>260.000000</td>\n",
       "      <td>121.700000</td>\n",
       "      <td>112.800000</td>\n",
       "      <td>2110.000000</td>\n",
       "      <td>2000.000000</td>\n",
       "      <td>4929.000000</td>\n",
       "      <td>9.600000</td>\n",
       "      <td>5.500000</td>\n",
       "      <td>2.800000</td>\n",
       "    </tr>\n",
       "  </tbody>\n",
       "</table>\n",
       "</div>"
      ],
      "text/plain": [
       "        Patient ID          Age  Total_Bilirubin  Direct_Bilirubin  \\\n",
       "count  1750.000000  1749.000000      1748.000000       1750.000000   \n",
       "mean    875.500000    45.213836         3.535240          1.656743   \n",
       "std     505.325802    18.568600         8.146868          5.347349   \n",
       "min       1.000000     4.000000         0.400000          0.100000   \n",
       "25%     438.250000    33.000000         0.800000          0.200000   \n",
       "50%     875.500000    45.000000         1.000000          0.300000   \n",
       "75%    1312.750000    58.000000         2.600000          1.300000   \n",
       "max    1750.000000   260.000000       121.700000        112.800000   \n",
       "\n",
       "       Alkaline_Phosphotase  Alamine_Aminotransferase  \\\n",
       "count           1748.000000               1748.000000   \n",
       "mean             290.551487                 80.719108   \n",
       "std              242.878316                182.570191   \n",
       "min               63.000000                 10.000000   \n",
       "25%              175.000000                 23.000000   \n",
       "50%              208.000000                 35.000000   \n",
       "75%              298.000000                 61.000000   \n",
       "max             2110.000000               2000.000000   \n",
       "\n",
       "       Aspartate_Aminotransferase  Total_Protiens      Albumin  \\\n",
       "count                 1746.000000     1748.000000  1747.000000   \n",
       "mean                   109.681558        6.482723     3.143045   \n",
       "std                    288.796591        1.085017     0.794765   \n",
       "min                     10.000000        2.700000     0.900000   \n",
       "25%                     25.000000        5.800000     2.600000   \n",
       "50%                     42.000000        6.600000     3.100000   \n",
       "75%                     87.000000        7.200000     3.800000   \n",
       "max                   4929.000000        9.600000     5.500000   \n",
       "\n",
       "       Albumin_and_Globulin_Ratio  \n",
       "count                 1738.000000  \n",
       "mean                     0.946922  \n",
       "std                      0.319371  \n",
       "min                      0.300000  \n",
       "25%                      0.700000  \n",
       "50%                      0.930000  \n",
       "75%                      1.100000  \n",
       "max                      2.800000  "
      ]
     },
     "execution_count": 58,
     "metadata": {},
     "output_type": "execute_result"
    }
   ],
   "source": [
    "data4.describe()"
   ]
  },
  {
   "cell_type": "code",
   "execution_count": 59,
   "id": "4ff78d66",
   "metadata": {},
   "outputs": [
    {
     "name": "stdout",
     "output_type": "stream",
     "text": [
      "<class 'pandas.core.frame.DataFrame'>\n",
      "RangeIndex: 1750 entries, 0 to 1749\n",
      "Data columns (total 12 columns):\n",
      " #   Column                      Non-Null Count  Dtype  \n",
      "---  ------                      --------------  -----  \n",
      " 0   Patient ID                  1750 non-null   int64  \n",
      " 1   Age                         1749 non-null   float64\n",
      " 2   Gender                      1749 non-null   object \n",
      " 3   Total_Bilirubin             1748 non-null   float64\n",
      " 4   Direct_Bilirubin            1750 non-null   float64\n",
      " 5   Alkaline_Phosphotase        1748 non-null   float64\n",
      " 6   Alamine_Aminotransferase    1748 non-null   float64\n",
      " 7   Aspartate_Aminotransferase  1746 non-null   float64\n",
      " 8   Total_Protiens              1748 non-null   float64\n",
      " 9   Albumin                     1747 non-null   float64\n",
      " 10  Albumin_and_Globulin_Ratio  1738 non-null   float64\n",
      " 11  Disease                     1750 non-null   object \n",
      "dtypes: float64(9), int64(1), object(2)\n",
      "memory usage: 164.2+ KB\n"
     ]
    }
   ],
   "source": [
    "data4.info()"
   ]
  },
  {
   "cell_type": "markdown",
   "id": "a4e81bf8",
   "metadata": {},
   "source": [
    "## Exploratory Data Analysis and Pre-processing"
   ]
  },
  {
   "cell_type": "code",
   "execution_count": 60,
   "id": "b125d5cd",
   "metadata": {},
   "outputs": [
    {
     "data": {
      "text/plain": [
       "Patient ID                     0\n",
       "Age                            1\n",
       "Gender                         1\n",
       "Total_Bilirubin                2\n",
       "Direct_Bilirubin               0\n",
       "Alkaline_Phosphotase           2\n",
       "Alamine_Aminotransferase       2\n",
       "Aspartate_Aminotransferase     4\n",
       "Total_Protiens                 2\n",
       "Albumin                        3\n",
       "Albumin_and_Globulin_Ratio    12\n",
       "Disease                        0\n",
       "dtype: int64"
      ]
     },
     "execution_count": 60,
     "metadata": {},
     "output_type": "execute_result"
    }
   ],
   "source": [
    "data4.isnull().sum() #to check for missing values"
   ]
  },
  {
   "cell_type": "markdown",
   "id": "16aeb745",
   "metadata": {},
   "source": [
    "**There are several missing values in the dataset.**"
   ]
  },
  {
   "cell_type": "code",
   "execution_count": 61,
   "id": "1f607593",
   "metadata": {},
   "outputs": [
    {
     "data": {
      "image/png": "[encoded data removed]",
      "text/plain": [
       "<Figure size 432x288 with 1 Axes>"
      ]
     },
     "metadata": {
      "needs_background": "light"
     },
     "output_type": "display_data"
    }
   ],
   "source": [
    "data4.Age.plot(kind = 'hist')\n",
    "plt.show()"
   ]
  },
  {
   "cell_type": "markdown",
   "id": "1453ca34",
   "metadata": {},
   "source": [
    "**Some of the data points observed are outliers because the age is over 200. Ages in the outlier range will be removed to make the max age 100.**"
   ]
  },
  {
   "cell_type": "code",
   "execution_count": 62,
   "id": "e3bf19d7",
   "metadata": {
    "scrolled": true
   },
   "outputs": [
    {
     "data": {
      "image/png": "[encoded data removed]",
      "text/plain": [
       "<Figure size 432x288 with 1 Axes>"
      ]
     },
     "metadata": {
      "needs_background": "light"
     },
     "output_type": "display_data"
    }
   ],
   "source": [
    "data4 = data4[data4.Age <= 100] #to only show ages up to 100\n",
    "\n",
    "data4.Age.plot(kind = 'hist')\n",
    "plt.show()"
   ]
  },
  {
   "cell_type": "code",
   "execution_count": 63,
   "id": "f9cc0da0",
   "metadata": {},
   "outputs": [
    {
     "data": {
      "image/png": "[encoded data removed]",
      "text/plain": [
       "<Figure size 432x288 with 1 Axes>"
      ]
     },
     "metadata": {
      "needs_background": "light"
     },
     "output_type": "display_data"
    }
   ],
   "source": [
    "data4.Total_Bilirubin.plot(kind = 'hist')\n",
    "plt.show()"
   ]
  },
  {
   "cell_type": "code",
   "execution_count": 64,
   "id": "92285d53",
   "metadata": {},
   "outputs": [
    {
     "data": {
      "image/png": "[encoded data removed]",
      "text/plain": [
       "<Figure size 432x288 with 1 Axes>"
      ]
     },
     "metadata": {
      "needs_background": "light"
     },
     "output_type": "display_data"
    }
   ],
   "source": [
    "data4.Direct_Bilirubin.plot(kind = 'hist')\n",
    "plt.show()"
   ]
  },
  {
   "cell_type": "code",
   "execution_count": 65,
   "id": "416b0309",
   "metadata": {},
   "outputs": [
    {
     "data": {
      "image/png": "[encoded data removed]",
      "text/plain": [
       "<Figure size 432x288 with 1 Axes>"
      ]
     },
     "metadata": {
      "needs_background": "light"
     },
     "output_type": "display_data"
    }
   ],
   "source": [
    "data4.Alkaline_Phosphotase.plot(kind = 'hist')\n",
    "plt.show()"
   ]
  },
  {
   "cell_type": "code",
   "execution_count": 66,
   "id": "d2f0fd2e",
   "metadata": {},
   "outputs": [
    {
     "data": {
      "image/png": "[encoded data removed]",
      "text/plain": [
       "<Figure size 432x288 with 1 Axes>"
      ]
     },
     "metadata": {
      "needs_background": "light"
     },
     "output_type": "display_data"
    }
   ],
   "source": [
    "data4.Alamine_Aminotransferase.plot(kind = 'hist')\n",
    "plt.show()"
   ]
  },
  {
   "cell_type": "code",
   "execution_count": 67,
   "id": "d4fb47f7",
   "metadata": {},
   "outputs": [
    {
     "data": {
      "image/png": "[encoded data removed]",
      "text/plain": [
       "<Figure size 432x288 with 1 Axes>"
      ]
     },
     "metadata": {
      "needs_background": "light"
     },
     "output_type": "display_data"
    }
   ],
   "source": [
    "data4.Aspartate_Aminotransferase.plot(kind = 'hist')\n",
    "plt.show()"
   ]
  },
  {
   "cell_type": "code",
   "execution_count": 68,
   "id": "d155ba73",
   "metadata": {},
   "outputs": [
    {
     "data": {
      "image/png": "[encoded data removed]",
      "text/plain": [
       "<Figure size 432x288 with 1 Axes>"
      ]
     },
     "metadata": {
      "needs_background": "light"
     },
     "output_type": "display_data"
    }
   ],
   "source": [
    "data4.Albumin.plot(kind = 'hist')\n",
    "plt.show()"
   ]
  },
  {
   "cell_type": "code",
   "execution_count": 69,
   "id": "8283265b",
   "metadata": {},
   "outputs": [
    {
     "data": {
      "image/png": "[encoded data removed]",
      "text/plain": [
       "<Figure size 432x288 with 1 Axes>"
      ]
     },
     "metadata": {
      "needs_background": "light"
     },
     "output_type": "display_data"
    }
   ],
   "source": [
    "data4.Total_Protiens.plot(kind = 'hist')\n",
    "plt.show()"
   ]
  },
  {
   "cell_type": "code",
   "execution_count": 70,
   "id": "992cc25a",
   "metadata": {},
   "outputs": [
    {
     "data": {
      "image/png": "[encoded data removed]",
      "text/plain": [
       "<Figure size 432x288 with 1 Axes>"
      ]
     },
     "metadata": {
      "needs_background": "light"
     },
     "output_type": "display_data"
    }
   ],
   "source": [
    "data4.Albumin_and_Globulin_Ratio.plot(kind = 'hist')\n",
    "plt.show()"
   ]
  },
  {
   "cell_type": "markdown",
   "id": "978fa5fe",
   "metadata": {},
   "source": [
    "**The 'Gender' data cannot be plotted as it has no numeric data.**"
   ]
  },
  {
   "cell_type": "markdown",
   "id": "e923517b",
   "metadata": {},
   "source": [
    "## Approah 1 - Data Science \n",
    "\n",
    "Focusing on pre-processing the dataset before training the models."
   ]
  },
  {
   "cell_type": "code",
   "execution_count": 71,
   "id": "7f61d2a8",
   "metadata": {},
   "outputs": [
    {
     "name": "stdout",
     "output_type": "stream",
     "text": [
      "<class 'pandas.core.frame.DataFrame'>\n",
      "Int64Index: 1745 entries, 0 to 1749\n",
      "Data columns (total 12 columns):\n",
      " #   Column                      Non-Null Count  Dtype  \n",
      "---  ------                      --------------  -----  \n",
      " 0   Patient ID                  1745 non-null   int64  \n",
      " 1   Age                         1745 non-null   float64\n",
      " 2   Gender                      1744 non-null   object \n",
      " 3   Total_Bilirubin             1743 non-null   float64\n",
      " 4   Direct_Bilirubin            1745 non-null   float64\n",
      " 5   Alkaline_Phosphotase        1743 non-null   float64\n",
      " 6   Alamine_Aminotransferase    1743 non-null   float64\n",
      " 7   Aspartate_Aminotransferase  1741 non-null   float64\n",
      " 8   Total_Protiens              1743 non-null   float64\n",
      " 9   Albumin                     1742 non-null   float64\n",
      " 10  Albumin_and_Globulin_Ratio  1733 non-null   float64\n",
      " 11  Disease                     1745 non-null   object \n",
      "dtypes: float64(9), int64(1), object(2)\n",
      "memory usage: 177.2+ KB\n"
     ]
    }
   ],
   "source": [
    "data4.info()"
   ]
  },
  {
   "cell_type": "code",
   "execution_count": 72,
   "id": "6cad130a",
   "metadata": {},
   "outputs": [
    {
     "data": {
      "text/plain": [
       "Patient ID                     0\n",
       "Age                            0\n",
       "Gender                         1\n",
       "Total_Bilirubin                2\n",
       "Direct_Bilirubin               0\n",
       "Alkaline_Phosphotase           2\n",
       "Alamine_Aminotransferase       2\n",
       "Aspartate_Aminotransferase     4\n",
       "Total_Protiens                 2\n",
       "Albumin                        3\n",
       "Albumin_and_Globulin_Ratio    12\n",
       "Disease                        0\n",
       "dtype: int64"
      ]
     },
     "execution_count": 72,
     "metadata": {},
     "output_type": "execute_result"
    }
   ],
   "source": [
    "data4.isnull().sum() #to check for missing values"
   ]
  },
  {
   "cell_type": "markdown",
   "id": "6051408a",
   "metadata": {},
   "source": [
    "### Imputation \n",
    "After visualizing data and checking for null values, the missing values in each column will be replaced with the mean value of each column. As there is no mean value for gender, the most occurring gender (mode) will be used to replace the null gender values."
   ]
  },
  {
   "cell_type": "code",
   "execution_count": 73,
   "id": "98d89c40",
   "metadata": {},
   "outputs": [],
   "source": [
    "#to replace missing values in the column where there are null values\n",
    "data4['Total_Bilirubin'] = data4['Total_Bilirubin'].fillna(data4.Total_Bilirubin.mean())\n",
    "data4['Alkaline_Phosphotase'] = data4['Alkaline_Phosphotase'].fillna(data4.Alkaline_Phosphotase.mean())\n",
    "data4['Alamine_Aminotransferase'] = data4['Alamine_Aminotransferase'].fillna(data4.Alamine_Aminotransferase.mean())\n",
    "data4['Aspartate_Aminotransferase'] = data4['Aspartate_Aminotransferase'].fillna(data4.Aspartate_Aminotransferase.mean())\n",
    "data4['Total_Protiens'] = data4['Total_Protiens'].fillna(data4.Total_Protiens.mean())\n",
    "data4['Albumin'] = data4['Albumin'].fillna(data4.Albumin.mean())\n",
    "data4['Albumin_and_Globulin_Ratio'] = data4['Albumin_and_Globulin_Ratio'].fillna(data4.Albumin.mean())\n",
    "data4['Gender'] = data4['Gender'].fillna(data4.Gender.mode()[0])"
   ]
  },
  {
   "cell_type": "code",
   "execution_count": 74,
   "id": "77ac81d7",
   "metadata": {},
   "outputs": [
    {
     "data": {
      "text/plain": [
       "Patient ID                    0\n",
       "Age                           0\n",
       "Gender                        0\n",
       "Total_Bilirubin               0\n",
       "Direct_Bilirubin              0\n",
       "Alkaline_Phosphotase          0\n",
       "Alamine_Aminotransferase      0\n",
       "Aspartate_Aminotransferase    0\n",
       "Total_Protiens                0\n",
       "Albumin                       0\n",
       "Albumin_and_Globulin_Ratio    0\n",
       "Disease                       0\n",
       "dtype: int64"
      ]
     },
     "execution_count": 74,
     "metadata": {},
     "output_type": "execute_result"
    }
   ],
   "source": [
    "data4.isnull().sum() #to check for missing values"
   ]
  },
  {
   "cell_type": "markdown",
   "id": "8138f589",
   "metadata": {},
   "source": [
    "**There are no longer any missing or null values in the dataset.**"
   ]
  },
  {
   "cell_type": "markdown",
   "id": "34bd2d13",
   "metadata": {},
   "source": [
    "### Labelling Data (Encoding)"
   ]
  },
  {
   "cell_type": "code",
   "execution_count": 75,
   "id": "a1b89456",
   "metadata": {},
   "outputs": [],
   "source": [
    "# label encoding gender and disease columns\n",
    "data4['Gender'] = data4['Gender'].replace(['Male', 'Female'], [0, 1])\n",
    "data4['Disease'] = data4['Disease'].replace(['No', 'Yes'], [0, 1])"
   ]
  },
  {
   "cell_type": "code",
   "execution_count": 76,
   "id": "766d02ee",
   "metadata": {},
   "outputs": [
    {
     "data": {
      "text/html": [
       "<div>\n",
       "<style scoped>\n",
       "    .dataframe tbody tr th:only-of-type {\n",
       "        vertical-align: middle;\n",
       "    }\n",
       "\n",
       "    .dataframe tbody tr th {\n",
       "        vertical-align: top;\n",
       "    }\n",
       "\n",
       "    .dataframe thead th {\n",
       "        text-align: right;\n",
       "    }\n",
       "</style>\n",
       "<table border=\"1\" class=\"dataframe\">\n",
       "  <thead>\n",
       "    <tr style=\"text-align: right;\">\n",
       "      <th></th>\n",
       "      <th>Patient ID</th>\n",
       "      <th>Age</th>\n",
       "      <th>Gender</th>\n",
       "      <th>Total_Bilirubin</th>\n",
       "      <th>Direct_Bilirubin</th>\n",
       "      <th>Alkaline_Phosphotase</th>\n",
       "      <th>Alamine_Aminotransferase</th>\n",
       "      <th>Aspartate_Aminotransferase</th>\n",
       "      <th>Total_Protiens</th>\n",
       "      <th>Albumin</th>\n",
       "      <th>Albumin_and_Globulin_Ratio</th>\n",
       "      <th>Disease</th>\n",
       "    </tr>\n",
       "  </thead>\n",
       "  <tbody>\n",
       "    <tr>\n",
       "      <th>0</th>\n",
       "      <td>1</td>\n",
       "      <td>65.0</td>\n",
       "      <td>1</td>\n",
       "      <td>0.7</td>\n",
       "      <td>0.1</td>\n",
       "      <td>187.0</td>\n",
       "      <td>16.0</td>\n",
       "      <td>18.0</td>\n",
       "      <td>6.8</td>\n",
       "      <td>3.3</td>\n",
       "      <td>0.90</td>\n",
       "      <td>1</td>\n",
       "    </tr>\n",
       "    <tr>\n",
       "      <th>1</th>\n",
       "      <td>2</td>\n",
       "      <td>62.0</td>\n",
       "      <td>0</td>\n",
       "      <td>10.9</td>\n",
       "      <td>5.5</td>\n",
       "      <td>699.0</td>\n",
       "      <td>64.0</td>\n",
       "      <td>100.0</td>\n",
       "      <td>7.5</td>\n",
       "      <td>3.2</td>\n",
       "      <td>0.74</td>\n",
       "      <td>1</td>\n",
       "    </tr>\n",
       "    <tr>\n",
       "      <th>2</th>\n",
       "      <td>3</td>\n",
       "      <td>62.0</td>\n",
       "      <td>0</td>\n",
       "      <td>7.3</td>\n",
       "      <td>4.1</td>\n",
       "      <td>490.0</td>\n",
       "      <td>60.0</td>\n",
       "      <td>68.0</td>\n",
       "      <td>7.0</td>\n",
       "      <td>3.3</td>\n",
       "      <td>0.89</td>\n",
       "      <td>1</td>\n",
       "    </tr>\n",
       "    <tr>\n",
       "      <th>3</th>\n",
       "      <td>4</td>\n",
       "      <td>58.0</td>\n",
       "      <td>0</td>\n",
       "      <td>1.0</td>\n",
       "      <td>0.4</td>\n",
       "      <td>182.0</td>\n",
       "      <td>14.0</td>\n",
       "      <td>20.0</td>\n",
       "      <td>6.8</td>\n",
       "      <td>3.4</td>\n",
       "      <td>1.00</td>\n",
       "      <td>1</td>\n",
       "    </tr>\n",
       "    <tr>\n",
       "      <th>4</th>\n",
       "      <td>5</td>\n",
       "      <td>72.0</td>\n",
       "      <td>0</td>\n",
       "      <td>3.9</td>\n",
       "      <td>2.0</td>\n",
       "      <td>195.0</td>\n",
       "      <td>27.0</td>\n",
       "      <td>59.0</td>\n",
       "      <td>7.3</td>\n",
       "      <td>2.4</td>\n",
       "      <td>0.40</td>\n",
       "      <td>1</td>\n",
       "    </tr>\n",
       "  </tbody>\n",
       "</table>\n",
       "</div>"
      ],
      "text/plain": [
       "   Patient ID   Age  Gender  Total_Bilirubin  Direct_Bilirubin  \\\n",
       "0           1  65.0       1              0.7               0.1   \n",
       "1           2  62.0       0             10.9               5.5   \n",
       "2           3  62.0       0              7.3               4.1   \n",
       "3           4  58.0       0              1.0               0.4   \n",
       "4           5  72.0       0              3.9               2.0   \n",
       "\n",
       "   Alkaline_Phosphotase  Alamine_Aminotransferase  Aspartate_Aminotransferase  \\\n",
       "0                 187.0                      16.0                        18.0   \n",
       "1                 699.0                      64.0                       100.0   \n",
       "2                 490.0                      60.0                        68.0   \n",
       "3                 182.0                      14.0                        20.0   \n",
       "4                 195.0                      27.0                        59.0   \n",
       "\n",
       "   Total_Protiens  Albumin  Albumin_and_Globulin_Ratio  Disease  \n",
       "0             6.8      3.3                        0.90        1  \n",
       "1             7.5      3.2                        0.74        1  \n",
       "2             7.0      3.3                        0.89        1  \n",
       "3             6.8      3.4                        1.00        1  \n",
       "4             7.3      2.4                        0.40        1  "
      ]
     },
     "execution_count": 76,
     "metadata": {},
     "output_type": "execute_result"
    }
   ],
   "source": [
    "data4.head()"
   ]
  },
  {
   "cell_type": "code",
   "execution_count": 77,
   "id": "f5c98f5a",
   "metadata": {},
   "outputs": [],
   "source": [
    "features = data4.drop(['Patient ID', 'Disease'], axis = 1) #to remove irrelevant data\n",
    "target = data4.Disease"
   ]
  },
  {
   "cell_type": "markdown",
   "id": "3e588506",
   "metadata": {},
   "source": [
    "## Feature Selection"
   ]
  },
  {
   "cell_type": "code",
   "execution_count": 78,
   "id": "aee40412",
   "metadata": {},
   "outputs": [
    {
     "data": {
      "image/png": "[encoded data removed]",
      "text/plain": [
       "<Figure size 720x360 with 2 Axes>"
      ]
     },
     "metadata": {
      "needs_background": "light"
     },
     "output_type": "display_data"
    }
   ],
   "source": [
    "import seaborn as sns\n",
    "\n",
    "plt.figure(figsize = (10,5))\n",
    "sns.heatmap(features.corr(), annot= True)\n",
    "plt.show()"
   ]
  },
  {
   "cell_type": "markdown",
   "id": "c4c039f7",
   "metadata": {},
   "source": [
    "Observation:\n",
    "\n",
    "- there is a high correlation between Alamine_Aminotransferase and Aspartate_Aminotransferase (0.79).\n",
    "- there is a high correlation between Total_Proteins and Albumin (0.78).\n",
    "- there is a high correlation between Albumin and Albumin_and_Globulin_Ratio (0.62).\n",
    "\n",
    "Only one of the two features from the above pairs will be used."
   ]
  },
  {
   "cell_type": "code",
   "execution_count": 79,
   "id": "996c78aa",
   "metadata": {},
   "outputs": [],
   "source": [
    "features = features.drop(['Aspartate_Aminotransferase', 'Albumin'], axis = 1) #removing excess features"
   ]
  },
  {
   "cell_type": "code",
   "execution_count": 80,
   "id": "b31a31eb",
   "metadata": {},
   "outputs": [
    {
     "data": {
      "image/png": "[encoded data removed]",
      "text/plain": [
       "<Figure size 432x288 with 1 Axes>"
      ]
     },
     "metadata": {
      "needs_background": "light"
     },
     "output_type": "display_data"
    }
   ],
   "source": [
    "target.plot(kind = 'hist')\n",
    "plt.show()"
   ]
  },
  {
   "cell_type": "markdown",
   "id": "07b40dff",
   "metadata": {},
   "source": [
    "## Feature Transformation"
   ]
  },
  {
   "cell_type": "code",
   "execution_count": 81,
   "id": "f9dbfa6d",
   "metadata": {},
   "outputs": [],
   "source": [
    "# log transformation to remove skewness from features\n",
    "\n",
    "features['Total_Bilirubin'] = np.log(features['Total_Bilirubin'])\n",
    "features['Direct_Bilirubin'] = np.log(features['Direct_Bilirubin'])\n",
    "features['Alkaline_Phosphotase'] = np.log(features['Alkaline_Phosphotase'])\n",
    "features['Alamine_Aminotransferase'] = np.log(features['Alamine_Aminotransferase'])"
   ]
  },
  {
   "cell_type": "markdown",
   "id": "6a875808",
   "metadata": {},
   "source": [
    "## Feature Scaling"
   ]
  },
  {
   "cell_type": "code",
   "execution_count": 82,
   "id": "dbe98824",
   "metadata": {},
   "outputs": [],
   "source": [
    "# scaling the features using Standard Scaler\n",
    "from sklearn.preprocessing import StandardScaler\n",
    "\n",
    "scale = StandardScaler()\n",
    "features_scaled = scale.fit_transform(features)"
   ]
  },
  {
   "cell_type": "markdown",
   "id": "2e0ea19b",
   "metadata": {},
   "source": [
    "## Data Rebalancing - Oversampling\n",
    "\n",
    "The data needs to be rebalanced by oversampling which helps to improve the bias to the minority class. The SMOTE() function is used to carry out this oversampling. Once oversampling is carried out, the shape of the data is checked once more."
   ]
  },
  {
   "cell_type": "code",
   "execution_count": 83,
   "id": "3c3e9e8d",
   "metadata": {},
   "outputs": [
    {
     "name": "stdout",
     "output_type": "stream",
     "text": [
      "(2494, 8)\n",
      "(2494,)\n"
     ]
    }
   ],
   "source": [
    "from imblearn.over_sampling import SMOTE #to perform oversampling using SMOTE to remove class imbalance\n",
    "\n",
    "smote = SMOTE(random_state = 42)\n",
    "features_resampled, target_resampled = smote.fit_resample(features_scaled, target)\n",
    "\n",
    "print(features_resampled.shape)\n",
    "print(target_resampled.shape)"
   ]
  },
  {
   "cell_type": "code",
   "execution_count": 84,
   "id": "f377b8a3",
   "metadata": {
    "scrolled": true
   },
   "outputs": [
    {
     "data": {
      "image/png": "[encoded data removed]",
      "text/plain": [
       "<Figure size 432x288 with 1 Axes>"
      ]
     },
     "metadata": {
      "needs_background": "light"
     },
     "output_type": "display_data"
    }
   ],
   "source": [
    "target_resampled.plot(kind = 'hist')\n",
    "plt.show()"
   ]
  },
  {
   "cell_type": "markdown",
   "id": "be97039a",
   "metadata": {},
   "source": [
    "### Train test split (80:20)"
   ]
  },
  {
   "cell_type": "code",
   "execution_count": 85,
   "id": "f684b581",
   "metadata": {},
   "outputs": [
    {
     "name": "stdout",
     "output_type": "stream",
     "text": [
      "(1995, 8)\n",
      "(499, 8)\n",
      "(1995,)\n",
      "(499,)\n"
     ]
    }
   ],
   "source": [
    "from sklearn.model_selection import train_test_split\n",
    "\n",
    "x_train, x_val, y_train, y_val = train_test_split(features_resampled, target_resampled, test_size = 0.2, random_state = 42)\n",
    "\n",
    "print(x_train.shape)\n",
    "print(x_val.shape)\n",
    "print(y_train.shape)\n",
    "print(y_val.shape)"
   ]
  },
  {
   "cell_type": "markdown",
   "id": "3140a3ca",
   "metadata": {},
   "source": [
    "## Model training and evaluation"
   ]
  },
  {
   "cell_type": "code",
   "execution_count": 86,
   "id": "c8ed9bfc",
   "metadata": {},
   "outputs": [
    {
     "name": "stdout",
     "output_type": "stream",
     "text": [
      "Random Forest Classifier \n",
      "Accuracy: 99.4\n",
      "Confusion metrics:\n",
      " [[264   0]\n",
      " [  3 232]]\n"
     ]
    }
   ],
   "source": [
    "from sklearn.ensemble import RandomForestClassifier\n",
    "from sklearn.metrics import accuracy_score, confusion_matrix\n",
    "\n",
    "rf = RandomForestClassifier(random_state = 42).fit(x_train, y_train)\n",
    "y_pred_rf = rf.predict(x_val)\n",
    "y_proba_rf = rf.predict_proba(x_val)\n",
    "\n",
    "acc_rf = round(accuracy_score(y_val, y_pred_rf) * 100, 2)\n",
    "cm_rf = confusion_matrix(y_val, y_pred_rf)\n",
    "\n",
    "print('Random Forest Classifier ')\n",
    "print('Accuracy:', acc_rf)\n",
    "print('Confusion metrics:\\n', cm_rf)"
   ]
  },
  {
   "cell_type": "code",
   "execution_count": 87,
   "id": "4c23e3e9",
   "metadata": {},
   "outputs": [
    {
     "name": "stdout",
     "output_type": "stream",
     "text": [
      "Gradient Boosting Classifier \n",
      "Accuracy: 86.37\n",
      "Confusion metrics:\n",
      " [[245  19]\n",
      " [ 49 186]]\n"
     ]
    }
   ],
   "source": [
    "from sklearn.ensemble import GradientBoostingClassifier\n",
    "from sklearn.metrics import accuracy_score, confusion_matrix\n",
    "\n",
    "gbc = GradientBoostingClassifier(random_state = 42).fit(x_train, y_train)\n",
    "y_pred_gbc = gbc.predict(x_val)\n",
    "y_proba_gbc = gbc.predict_proba(x_val)\n",
    "\n",
    "acc_gbc = round(accuracy_score(y_val, y_pred_gbc) * 100, 2)\n",
    "cm_gbc = confusion_matrix(y_val, y_pred_gbc)\n",
    "\n",
    "print('Gradient Boosting Classifier ')\n",
    "print('Accuracy:', acc_gbc)\n",
    "print('Confusion metrics:\\n', cm_gbc)"
   ]
  },
  {
   "cell_type": "code",
   "execution_count": 88,
   "id": "770f49ec",
   "metadata": {},
   "outputs": [
    {
     "name": "stdout",
     "output_type": "stream",
     "text": [
      "AdaBoost Classifier\n",
      "Accuracy: 77.56\n",
      "Confusion metrics:\n",
      " [[219  45]\n",
      " [ 67 168]]\n"
     ]
    }
   ],
   "source": [
    "from sklearn.ensemble import AdaBoostClassifier\n",
    "from sklearn.metrics import accuracy_score, confusion_matrix\n",
    "\n",
    "abc = AdaBoostClassifier(random_state = 42).fit(x_train, y_train)\n",
    "y_pred_abc = abc.predict(x_val)\n",
    "y_proba_abc = abc.predict_proba(x_val)\n",
    "\n",
    "acc_abc = round(accuracy_score(y_val, y_pred_abc) * 100, 2)\n",
    "cm_abc = confusion_matrix(y_val, y_pred_abc)\n",
    "\n",
    "print('AdaBoost Classifier')\n",
    "print('Accuracy:', acc_abc)\n",
    "print('Confusion metrics:\\n', cm_abc)"
   ]
  },
  {
   "cell_type": "markdown",
   "id": "1237db70",
   "metadata": {},
   "source": [
    "## The Ensemble System"
   ]
  },
  {
   "cell_type": "code",
   "execution_count": 89,
   "id": "3998fa93",
   "metadata": {},
   "outputs": [
    {
     "name": "stdout",
     "output_type": "stream",
     "text": [
      "Ensemble System\n",
      "Accuracy: 99.4\n",
      "Confusion metrics:\n",
      " [[264   0]\n",
      " [  3 232]]\n"
     ]
    }
   ],
   "source": [
    "ensemble_proba1 = (y_proba_rf + y_proba_gbc + y_proba_abc)/3\n",
    "ensemble_pred1 = np.argmax(ensemble_proba1, axis = 1)\n",
    "\n",
    "acc = accuracy_score(y_val, ensemble_pred1)\n",
    "cm = confusion_matrix(y_val, ensemble_pred1)\n",
    "\n",
    "print('Ensemble System')\n",
    "print('Accuracy:', round(acc*100, 2))\n",
    "print('Confusion metrics:\\n', cm)"
   ]
  },
  {
   "cell_type": "markdown",
   "id": "15b9a166",
   "metadata": {},
   "source": [
    "In this first approach, the problem is tackled from a pure data science perspective, focusing on data pre-processing before training the models.\n",
    "\n",
    "The following were performed:\n",
    " - Imputation : To replace missing values in the dataset. The missing values in continuous numerical features were imputed with the mean and the missing values in the categorical variables were imputed with the mode (most frequent value)\n",
    " - Encoding: To apply encoding to the categorical features.\n",
    " - Feature Transformation : To remove skewness from the numerical features by logging transformation\n",
    " - Feature Selection : To reduce dimensionality by removing one of the two highly correlated features from the dataset.\n",
    " - Feature Scaling : To scale the numerical data to avoid bias in the model.\n",
    " - Oversampling : To perform oversampling using SMOTE to remove class imbalance from the dataset in order to avoid bias in predictions of classification models.\n",
    " \n",
    "After pre-processing, the data was split into train and test set in the ratio 80:20 and three ensemble models were trained:\n",
    "- Random Forest\n",
    "- Gradient Boost\n",
    "- Ada Boost\n",
    "\n",
    "Their performance were measured separately and their results were integrated into an ensemble system.\n",
    "\n",
    "The accuracy of this ensemble system was 99.4 %."
   ]
  },
  {
   "cell_type": "markdown",
   "id": "bddc8aab",
   "metadata": {},
   "source": [
    "# Approach 2 - Categorising Features"
   ]
  },
  {
   "cell_type": "code",
   "execution_count": 90,
   "id": "ca664e6d",
   "metadata": {},
   "outputs": [
    {
     "name": "stdout",
     "output_type": "stream",
     "text": [
      "<class 'pandas.core.frame.DataFrame'>\n",
      "Int64Index: 1745 entries, 0 to 1749\n",
      "Data columns (total 12 columns):\n",
      " #   Column                      Non-Null Count  Dtype  \n",
      "---  ------                      --------------  -----  \n",
      " 0   Patient ID                  1745 non-null   int64  \n",
      " 1   Age                         1745 non-null   float64\n",
      " 2   Gender                      1745 non-null   int64  \n",
      " 3   Total_Bilirubin             1745 non-null   float64\n",
      " 4   Direct_Bilirubin            1745 non-null   float64\n",
      " 5   Alkaline_Phosphotase        1745 non-null   float64\n",
      " 6   Alamine_Aminotransferase    1745 non-null   float64\n",
      " 7   Aspartate_Aminotransferase  1745 non-null   float64\n",
      " 8   Total_Protiens              1745 non-null   float64\n",
      " 9   Albumin                     1745 non-null   float64\n",
      " 10  Albumin_and_Globulin_Ratio  1745 non-null   float64\n",
      " 11  Disease                     1745 non-null   int64  \n",
      "dtypes: float64(9), int64(3)\n",
      "memory usage: 177.2 KB\n"
     ]
    }
   ],
   "source": [
    "data4_new = data4.copy() #to duplicate the preprocessed dataset for the 2nd approach\n",
    "data4_new.info()"
   ]
  },
  {
   "cell_type": "markdown",
   "id": "f76b4e06",
   "metadata": {},
   "source": [
    "### Categorising Features"
   ]
  },
  {
   "cell_type": "code",
   "execution_count": 91,
   "id": "1f45f9d7",
   "metadata": {},
   "outputs": [],
   "source": [
    "def age_category(age): #to create age categories\n",
    "    \n",
    "    if age <= 12:\n",
    "        return 'child'\n",
    "    elif (age >= 13) and (age <= 17):\n",
    "        return 'adolescent'\n",
    "    elif (age >= 18) and (age < 65):\n",
    "        return 'adult'\n",
    "    else:\n",
    "        return 'old'\n",
    "    \n",
    "data4_new['Age_Category'] = data4_new['Age'].apply(lambda x : age_category(x))"
   ]
  },
  {
   "cell_type": "code",
   "execution_count": 92,
   "id": "7058ffbb",
   "metadata": {},
   "outputs": [],
   "source": [
    "def TB_category(tb): #to create categories for Total Bilirubin levels\n",
    "    \n",
    "    if tb >= 0.2 and tb <= 1.3:\n",
    "        return 'Healthy'\n",
    "    elif tb >= 2.5:\n",
    "        return 'High'\n",
    "    else: \n",
    "        return 'Elevated'\n",
    "\n",
    "data4_new['TB_category'] = data4_new['Total_Bilirubin'].apply(lambda x : TB_category(x))"
   ]
  },
  {
   "cell_type": "code",
   "execution_count": 93,
   "id": "a16dfa42",
   "metadata": {},
   "outputs": [],
   "source": [
    "def AST_category(age_cat, ast): #to create categories for Aspartate_Aminotransferase levels with regards to age\n",
    "    \n",
    "    if age_cat == 'child':\n",
    "        \n",
    "        if ast <= 10 and ast <= 40:\n",
    "            return 'normal'\n",
    "        else:\n",
    "            return 'high'\n",
    "        \n",
    "    else:\n",
    "        \n",
    "        if ast <= 36:\n",
    "            return 'normal'\n",
    "        else:\n",
    "            return 'high'\n",
    "        \n",
    "data4_new['AST_category'] = data4_new[['Age_Category','Aspartate_Aminotransferase']].apply(lambda x : AST_category(x.Age_Category, x.Aspartate_Aminotransferase), axis =1)"
   ]
  },
  {
   "cell_type": "code",
   "execution_count": 94,
   "id": "dce64a17",
   "metadata": {},
   "outputs": [],
   "source": [
    "def ALT_category(alt): #to create categories Alamine_Aminotransferase levels\n",
    "         \n",
    "    if alt >= 7 and alt <= 55:\n",
    "        return 'normal'\n",
    "    else:\n",
    "        return 'abnormal'\n",
    "        \n",
    "data4_new['ALT_category'] = data4_new['Alamine_Aminotransferase'].apply(lambda x : ALT_category(x))"
   ]
  },
  {
   "cell_type": "code",
   "execution_count": 95,
   "id": "9e531458",
   "metadata": {},
   "outputs": [],
   "source": [
    "def TP_category(tp): #to create categories for total protein levels\n",
    "         \n",
    "    if tp <= 7.9:\n",
    "        return 'normal'\n",
    "    else:\n",
    "        return 'abnormal'\n",
    "        \n",
    "data4_new['TP_category'] = data4_new['Total_Protiens'].apply(lambda x : TP_category(x))"
   ]
  },
  {
   "cell_type": "code",
   "execution_count": 96,
   "id": "5e9ca324",
   "metadata": {},
   "outputs": [],
   "source": [
    "def ALB_category(x): #to create categories for albumin\n",
    "         \n",
    "    if x >= 3.5 and x <= 5.0:\n",
    "        return 'normal'\n",
    "    else:\n",
    "        return 'abnormal'      \n",
    "        \n",
    "data4_new['ALB_category'] = data4_new['Albumin'].apply(lambda x : ALB_category(x))"
   ]
  },
  {
   "cell_type": "code",
   "execution_count": 97,
   "id": "a4c560f5",
   "metadata": {},
   "outputs": [],
   "source": [
    "def ALP_category(x): #to create categories for Alkaline_Phosphotase levels\n",
    "         \n",
    "    if x >= 40 and x <= 129:\n",
    "        return 'normal'\n",
    "    else:\n",
    "        return 'abnormal'\n",
    "                \n",
    "data4_new['ALP_category'] = data4_new['Alkaline_Phosphotase'].apply(lambda x : ALP_category(x))"
   ]
  },
  {
   "cell_type": "code",
   "execution_count": 98,
   "id": "a8780342",
   "metadata": {},
   "outputs": [],
   "source": [
    "def AG_category(x): #to create category for Albumin and Globulin Ratio\n",
    "         \n",
    "    if x >= 1.1 and x <= 2.5:\n",
    "        return 'normal'\n",
    "    else:\n",
    "        return 'abnormal'\n",
    "        \n",
    "data4_new['AG_category'] = data4_new['Albumin_and_Globulin_Ratio'].apply(lambda x : AG_category(x))"
   ]
  },
  {
   "cell_type": "code",
   "execution_count": 99,
   "id": "3fedb72e",
   "metadata": {},
   "outputs": [],
   "source": [
    "#to remove numerical columns that have been categorized.\n",
    "data4_new = data4_new.drop(['Age', 'Total_Bilirubin', 'Alkaline_Phosphotase', 'Alkaline_Phosphotase', 'Alamine_Aminotransferase', 'Aspartate_Aminotransferase', 'Albumin', 'Albumin_and_Globulin_Ratio', 'Total_Protiens'], axis = 1)"
   ]
  },
  {
   "cell_type": "code",
   "execution_count": 100,
   "id": "d0913407",
   "metadata": {
    "scrolled": false
   },
   "outputs": [
    {
     "data": {
      "text/html": [
       "<div>\n",
       "<style scoped>\n",
       "    .dataframe tbody tr th:only-of-type {\n",
       "        vertical-align: middle;\n",
       "    }\n",
       "\n",
       "    .dataframe tbody tr th {\n",
       "        vertical-align: top;\n",
       "    }\n",
       "\n",
       "    .dataframe thead th {\n",
       "        text-align: right;\n",
       "    }\n",
       "</style>\n",
       "<table border=\"1\" class=\"dataframe\">\n",
       "  <thead>\n",
       "    <tr style=\"text-align: right;\">\n",
       "      <th></th>\n",
       "      <th>Patient ID</th>\n",
       "      <th>Gender</th>\n",
       "      <th>Direct_Bilirubin</th>\n",
       "      <th>Disease</th>\n",
       "      <th>Age_Category</th>\n",
       "      <th>TB_category</th>\n",
       "      <th>AST_category</th>\n",
       "      <th>ALT_category</th>\n",
       "      <th>TP_category</th>\n",
       "      <th>ALB_category</th>\n",
       "      <th>ALP_category</th>\n",
       "      <th>AG_category</th>\n",
       "    </tr>\n",
       "  </thead>\n",
       "  <tbody>\n",
       "    <tr>\n",
       "      <th>0</th>\n",
       "      <td>1</td>\n",
       "      <td>1</td>\n",
       "      <td>0.1</td>\n",
       "      <td>1</td>\n",
       "      <td>old</td>\n",
       "      <td>Healthy</td>\n",
       "      <td>normal</td>\n",
       "      <td>normal</td>\n",
       "      <td>normal</td>\n",
       "      <td>abnormal</td>\n",
       "      <td>abnormal</td>\n",
       "      <td>abnormal</td>\n",
       "    </tr>\n",
       "    <tr>\n",
       "      <th>1</th>\n",
       "      <td>2</td>\n",
       "      <td>0</td>\n",
       "      <td>5.5</td>\n",
       "      <td>1</td>\n",
       "      <td>adult</td>\n",
       "      <td>High</td>\n",
       "      <td>high</td>\n",
       "      <td>abnormal</td>\n",
       "      <td>normal</td>\n",
       "      <td>abnormal</td>\n",
       "      <td>abnormal</td>\n",
       "      <td>abnormal</td>\n",
       "    </tr>\n",
       "    <tr>\n",
       "      <th>2</th>\n",
       "      <td>3</td>\n",
       "      <td>0</td>\n",
       "      <td>4.1</td>\n",
       "      <td>1</td>\n",
       "      <td>adult</td>\n",
       "      <td>High</td>\n",
       "      <td>high</td>\n",
       "      <td>abnormal</td>\n",
       "      <td>normal</td>\n",
       "      <td>abnormal</td>\n",
       "      <td>abnormal</td>\n",
       "      <td>abnormal</td>\n",
       "    </tr>\n",
       "    <tr>\n",
       "      <th>3</th>\n",
       "      <td>4</td>\n",
       "      <td>0</td>\n",
       "      <td>0.4</td>\n",
       "      <td>1</td>\n",
       "      <td>adult</td>\n",
       "      <td>Healthy</td>\n",
       "      <td>normal</td>\n",
       "      <td>normal</td>\n",
       "      <td>normal</td>\n",
       "      <td>abnormal</td>\n",
       "      <td>abnormal</td>\n",
       "      <td>abnormal</td>\n",
       "    </tr>\n",
       "    <tr>\n",
       "      <th>4</th>\n",
       "      <td>5</td>\n",
       "      <td>0</td>\n",
       "      <td>2.0</td>\n",
       "      <td>1</td>\n",
       "      <td>old</td>\n",
       "      <td>High</td>\n",
       "      <td>high</td>\n",
       "      <td>normal</td>\n",
       "      <td>normal</td>\n",
       "      <td>abnormal</td>\n",
       "      <td>abnormal</td>\n",
       "      <td>abnormal</td>\n",
       "    </tr>\n",
       "  </tbody>\n",
       "</table>\n",
       "</div>"
      ],
      "text/plain": [
       "   Patient ID  Gender  Direct_Bilirubin  Disease Age_Category TB_category  \\\n",
       "0           1       1               0.1        1          old     Healthy   \n",
       "1           2       0               5.5        1        adult        High   \n",
       "2           3       0               4.1        1        adult        High   \n",
       "3           4       0               0.4        1        adult     Healthy   \n",
       "4           5       0               2.0        1          old        High   \n",
       "\n",
       "  AST_category ALT_category TP_category ALB_category ALP_category AG_category  \n",
       "0       normal       normal      normal     abnormal     abnormal    abnormal  \n",
       "1         high     abnormal      normal     abnormal     abnormal    abnormal  \n",
       "2         high     abnormal      normal     abnormal     abnormal    abnormal  \n",
       "3       normal       normal      normal     abnormal     abnormal    abnormal  \n",
       "4         high       normal      normal     abnormal     abnormal    abnormal  "
      ]
     },
     "execution_count": 100,
     "metadata": {},
     "output_type": "execute_result"
    }
   ],
   "source": [
    "data4_new.head() #to view the dataset with categories"
   ]
  },
  {
   "cell_type": "markdown",
   "id": "46f5f064",
   "metadata": {},
   "source": [
    "## Data Transformation and Encoding"
   ]
  },
  {
   "cell_type": "code",
   "execution_count": 101,
   "id": "740cfdb4",
   "metadata": {},
   "outputs": [],
   "source": [
    "# log transforming direct bilirubin\n",
    "data4_new['Direct_Bilirubin'] = np.log(data4_new['Direct_Bilirubin'])\n",
    "\n",
    "# label encoding the categorical columns\n",
    "data4_new['AST_category'] = data4_new['AST_category'].replace(['normal', 'high'], [0, 1])\n",
    "data4_new['ALT_category'] = data4_new['ALT_category'].replace(['normal', 'abnormal'], [0, 1])\n",
    "data4_new['TP_category'] = data4_new['TP_category'].replace(['normal', 'abnormal'], [0, 1])\n",
    "data4_new['ALB_category'] = data4_new['ALB_category'].replace(['normal', 'abnormal'], [0, 1])\n",
    "data4_new['ALP_category'] = data4_new['ALP_category'].replace(['normal', 'abnormal'], [0, 1])\n",
    "data4_new['AG_category'] = data4_new['AG_category'].replace(['normal', 'abnormal'], [0, 1])"
   ]
  },
  {
   "cell_type": "code",
   "execution_count": 102,
   "id": "febce43c",
   "metadata": {},
   "outputs": [
    {
     "data": {
      "text/html": [
       "<div>\n",
       "<style scoped>\n",
       "    .dataframe tbody tr th:only-of-type {\n",
       "        vertical-align: middle;\n",
       "    }\n",
       "\n",
       "    .dataframe tbody tr th {\n",
       "        vertical-align: top;\n",
       "    }\n",
       "\n",
       "    .dataframe thead th {\n",
       "        text-align: right;\n",
       "    }\n",
       "</style>\n",
       "<table border=\"1\" class=\"dataframe\">\n",
       "  <thead>\n",
       "    <tr style=\"text-align: right;\">\n",
       "      <th></th>\n",
       "      <th>Patient ID</th>\n",
       "      <th>Gender</th>\n",
       "      <th>Direct_Bilirubin</th>\n",
       "      <th>Disease</th>\n",
       "      <th>AST_category</th>\n",
       "      <th>ALT_category</th>\n",
       "      <th>TP_category</th>\n",
       "      <th>ALB_category</th>\n",
       "      <th>ALP_category</th>\n",
       "      <th>AG_category</th>\n",
       "      <th>Age_Category_adult</th>\n",
       "      <th>Age_Category_child</th>\n",
       "      <th>Age_Category_old</th>\n",
       "      <th>TB_category_Healthy</th>\n",
       "      <th>TB_category_High</th>\n",
       "    </tr>\n",
       "  </thead>\n",
       "  <tbody>\n",
       "    <tr>\n",
       "      <th>0</th>\n",
       "      <td>1</td>\n",
       "      <td>1</td>\n",
       "      <td>-2.302585</td>\n",
       "      <td>1</td>\n",
       "      <td>0</td>\n",
       "      <td>0</td>\n",
       "      <td>0</td>\n",
       "      <td>1</td>\n",
       "      <td>1</td>\n",
       "      <td>1</td>\n",
       "      <td>0</td>\n",
       "      <td>0</td>\n",
       "      <td>1</td>\n",
       "      <td>1</td>\n",
       "      <td>0</td>\n",
       "    </tr>\n",
       "    <tr>\n",
       "      <th>1</th>\n",
       "      <td>2</td>\n",
       "      <td>0</td>\n",
       "      <td>1.704748</td>\n",
       "      <td>1</td>\n",
       "      <td>1</td>\n",
       "      <td>1</td>\n",
       "      <td>0</td>\n",
       "      <td>1</td>\n",
       "      <td>1</td>\n",
       "      <td>1</td>\n",
       "      <td>1</td>\n",
       "      <td>0</td>\n",
       "      <td>0</td>\n",
       "      <td>0</td>\n",
       "      <td>1</td>\n",
       "    </tr>\n",
       "    <tr>\n",
       "      <th>2</th>\n",
       "      <td>3</td>\n",
       "      <td>0</td>\n",
       "      <td>1.410987</td>\n",
       "      <td>1</td>\n",
       "      <td>1</td>\n",
       "      <td>1</td>\n",
       "      <td>0</td>\n",
       "      <td>1</td>\n",
       "      <td>1</td>\n",
       "      <td>1</td>\n",
       "      <td>1</td>\n",
       "      <td>0</td>\n",
       "      <td>0</td>\n",
       "      <td>0</td>\n",
       "      <td>1</td>\n",
       "    </tr>\n",
       "    <tr>\n",
       "      <th>3</th>\n",
       "      <td>4</td>\n",
       "      <td>0</td>\n",
       "      <td>-0.916291</td>\n",
       "      <td>1</td>\n",
       "      <td>0</td>\n",
       "      <td>0</td>\n",
       "      <td>0</td>\n",
       "      <td>1</td>\n",
       "      <td>1</td>\n",
       "      <td>1</td>\n",
       "      <td>1</td>\n",
       "      <td>0</td>\n",
       "      <td>0</td>\n",
       "      <td>1</td>\n",
       "      <td>0</td>\n",
       "    </tr>\n",
       "    <tr>\n",
       "      <th>4</th>\n",
       "      <td>5</td>\n",
       "      <td>0</td>\n",
       "      <td>0.693147</td>\n",
       "      <td>1</td>\n",
       "      <td>1</td>\n",
       "      <td>0</td>\n",
       "      <td>0</td>\n",
       "      <td>1</td>\n",
       "      <td>1</td>\n",
       "      <td>1</td>\n",
       "      <td>0</td>\n",
       "      <td>0</td>\n",
       "      <td>1</td>\n",
       "      <td>0</td>\n",
       "      <td>1</td>\n",
       "    </tr>\n",
       "  </tbody>\n",
       "</table>\n",
       "</div>"
      ],
      "text/plain": [
       "   Patient ID  Gender  Direct_Bilirubin  Disease  AST_category  ALT_category  \\\n",
       "0           1       1         -2.302585        1             0             0   \n",
       "1           2       0          1.704748        1             1             1   \n",
       "2           3       0          1.410987        1             1             1   \n",
       "3           4       0         -0.916291        1             0             0   \n",
       "4           5       0          0.693147        1             1             0   \n",
       "\n",
       "   TP_category  ALB_category  ALP_category  AG_category  Age_Category_adult  \\\n",
       "0            0             1             1            1                   0   \n",
       "1            0             1             1            1                   1   \n",
       "2            0             1             1            1                   1   \n",
       "3            0             1             1            1                   1   \n",
       "4            0             1             1            1                   0   \n",
       "\n",
       "   Age_Category_child  Age_Category_old  TB_category_Healthy  TB_category_High  \n",
       "0                   0                 1                    1                 0  \n",
       "1                   0                 0                    0                 1  \n",
       "2                   0                 0                    0                 1  \n",
       "3                   0                 0                    1                 0  \n",
       "4                   0                 1                    0                 1  "
      ]
     },
     "execution_count": 102,
     "metadata": {},
     "output_type": "execute_result"
    }
   ],
   "source": [
    "# one hot encoding \n",
    "data4_new = pd.get_dummies(data4_new, drop_first = True)\n",
    "data4_new.head()"
   ]
  },
  {
   "cell_type": "code",
   "execution_count": 103,
   "id": "51b2de8b",
   "metadata": {},
   "outputs": [],
   "source": [
    "features = data4_new.drop(['Patient ID', 'Disease'], axis = 1) #to remove unneeded data\n",
    "target = data4_new.Disease"
   ]
  },
  {
   "cell_type": "code",
   "execution_count": 104,
   "id": "c7ee6f21",
   "metadata": {},
   "outputs": [
    {
     "data": {
      "image/png": "[encoded data removed]",
      "text/plain": [
       "<Figure size 864x432 with 2 Axes>"
      ]
     },
     "metadata": {
      "needs_background": "light"
     },
     "output_type": "display_data"
    }
   ],
   "source": [
    "import seaborn as sns\n",
    "\n",
    "plt.figure(figsize = (12,6))\n",
    "sns.heatmap(features.corr(), annot = True)\n",
    "plt.show()"
   ]
  },
  {
   "cell_type": "code",
   "execution_count": 105,
   "id": "d519289a",
   "metadata": {
    "scrolled": true
   },
   "outputs": [],
   "source": [
    "features = features.drop(['Direct_Bilirubin','Age_Category_old', 'TB_category_Healthy'], axis = 1) #removing excess features for dimensionality reduction"
   ]
  },
  {
   "cell_type": "code",
   "execution_count": 106,
   "id": "7c9e2b33",
   "metadata": {},
   "outputs": [
    {
     "data": {
      "image/png": "[encoded data removed]",
      "text/plain": [
       "<Figure size 432x288 with 1 Axes>"
      ]
     },
     "metadata": {
      "needs_background": "light"
     },
     "output_type": "display_data"
    }
   ],
   "source": [
    "target.plot(kind = 'hist')\n",
    "plt.show()"
   ]
  },
  {
   "cell_type": "markdown",
   "id": "7601037b",
   "metadata": {},
   "source": [
    "### Oversampling"
   ]
  },
  {
   "cell_type": "code",
   "execution_count": 107,
   "id": "715a1e92",
   "metadata": {},
   "outputs": [
    {
     "name": "stdout",
     "output_type": "stream",
     "text": [
      "(2494, 10)\n",
      "(2494,)\n"
     ]
    }
   ],
   "source": [
    "from imblearn.over_sampling import SMOTE #to perform oversampling using SMOTE to remove class imbalance\n",
    "\n",
    "smote = SMOTE(random_state = 42)\n",
    "features_resampled, target_resampled = smote.fit_resample(features, target)\n",
    "\n",
    "print(features_resampled.shape)\n",
    "print(target_resampled.shape)"
   ]
  },
  {
   "cell_type": "code",
   "execution_count": 108,
   "id": "fd53e861",
   "metadata": {},
   "outputs": [
    {
     "data": {
      "image/png": "[encoded data removed]",
      "text/plain": [
       "<Figure size 432x288 with 1 Axes>"
      ]
     },
     "metadata": {
      "needs_background": "light"
     },
     "output_type": "display_data"
    }
   ],
   "source": [
    "target_resampled.plot(kind = 'hist')\n",
    "plt.show()"
   ]
  },
  {
   "cell_type": "markdown",
   "id": "c3de6641",
   "metadata": {},
   "source": [
    "## Train Test Split (80:20)"
   ]
  },
  {
   "cell_type": "code",
   "execution_count": 109,
   "id": "ad261851",
   "metadata": {},
   "outputs": [
    {
     "name": "stdout",
     "output_type": "stream",
     "text": [
      "(1995, 10)\n",
      "(499, 10)\n",
      "(1995,)\n",
      "(499,)\n"
     ]
    }
   ],
   "source": [
    "from sklearn.model_selection import train_test_split\n",
    "\n",
    "x_train, x_val, y_train, y_val = train_test_split(features_resampled, target_resampled, test_size = 0.2, random_state = 42)\n",
    "\n",
    "print(x_train.shape)\n",
    "print(x_val.shape)\n",
    "print(y_train.shape)\n",
    "print(y_val.shape)"
   ]
  },
  {
   "cell_type": "code",
   "execution_count": 110,
   "id": "bd542d00",
   "metadata": {},
   "outputs": [
    {
     "name": "stdout",
     "output_type": "stream",
     "text": [
      "Random Forest Classifier\n",
      "Accuracy: 78.16\n",
      "Confusion metrics:\n",
      " [[229  35]\n",
      " [ 74 161]]\n"
     ]
    }
   ],
   "source": [
    "from sklearn.ensemble import RandomForestClassifier\n",
    "from sklearn.metrics import accuracy_score, confusion_matrix\n",
    "\n",
    "rf = RandomForestClassifier(random_state = 42).fit(x_train, y_train)\n",
    "y_pred_rf = rf.predict(x_val)\n",
    "y_proba_rf = rf.predict_proba(x_val)\n",
    "\n",
    "acc_rf = round(accuracy_score(y_val, y_pred_rf) * 100, 2)\n",
    "cm_rf = confusion_matrix(y_val, y_pred_rf)\n",
    "\n",
    "print('Random Forest Classifier')\n",
    "print('Accuracy:', acc_rf)\n",
    "print('Confusion metrics:\\n', cm_rf)"
   ]
  },
  {
   "cell_type": "code",
   "execution_count": 69,
   "id": "d446f3df",
   "metadata": {},
   "outputs": [
    {
     "name": "stdout",
     "output_type": "stream",
     "text": [
      "Gradient Boosting Classifier\n",
      "Accuracy: 75.55\n",
      "Confusion metrics:\n",
      " [[216  48]\n",
      " [ 74 161]]\n"
     ]
    }
   ],
   "source": [
    "from sklearn.ensemble import GradientBoostingClassifier\n",
    "from sklearn.metrics import accuracy_score, confusion_matrix\n",
    "\n",
    "gbc = GradientBoostingClassifier(random_state = 42).fit(x_train, y_train)\n",
    "y_pred_gbc = gbc.predict(x_val)\n",
    "y_proba_gbc = gbc.predict_proba(x_val)\n",
    "\n",
    "acc_gbc = round(accuracy_score(y_val, y_pred_gbc) * 100, 2)\n",
    "cm_gbc = confusion_matrix(y_val, y_pred_gbc)\n",
    "\n",
    "print('Gradient Boosting Classifier')\n",
    "print('Accuracy:', acc_gbc)\n",
    "print('Confusion metrics:\\n', cm_gbc)"
   ]
  },
  {
   "cell_type": "code",
   "execution_count": 70,
   "id": "3f9a4ace",
   "metadata": {},
   "outputs": [
    {
     "name": "stdout",
     "output_type": "stream",
     "text": [
      "AdaBoost Classifier\n",
      "Accuracy: 70.74\n",
      "Confusion metrics:\n",
      " [[211  53]\n",
      " [ 93 142]]\n"
     ]
    }
   ],
   "source": [
    "from sklearn.ensemble import AdaBoostClassifier\n",
    "from sklearn.metrics import accuracy_score, confusion_matrix\n",
    "\n",
    "abc = AdaBoostClassifier(random_state = 42).fit(x_train, y_train)\n",
    "y_pred_abc = abc.predict(x_val)\n",
    "y_proba_abc = abc.predict_proba(x_val)\n",
    "\n",
    "acc_abc = round(accuracy_score(y_val, y_pred_abc) * 100, 2)\n",
    "cm_abc = confusion_matrix(y_val, y_pred_abc)\n",
    "\n",
    "print('AdaBoost Classifier')\n",
    "print('Accuracy:', acc_abc)\n",
    "print('Confusion metrics:\\n', cm_abc)"
   ]
  },
  {
   "cell_type": "markdown",
   "id": "26dbdd41",
   "metadata": {},
   "source": [
    "## Ensemble System"
   ]
  },
  {
   "cell_type": "code",
   "execution_count": 71,
   "id": "92dfb3cb",
   "metadata": {},
   "outputs": [
    {
     "name": "stdout",
     "output_type": "stream",
     "text": [
      "Accuracy :  77.56\n",
      "Confusion metrics :\n",
      " [[227  37]\n",
      " [ 75 160]]\n"
     ]
    }
   ],
   "source": [
    "ensemble_proba2 = (y_proba_rf + y_proba_gbc + y_proba_abc)/3\n",
    "ensemble_pred2 = np.argmax(ensemble_proba2, axis = 1)\n",
    "\n",
    "acc = accuracy_score(y_val, ensemble_pred2)\n",
    "cm = confusion_matrix(y_val, ensemble_pred2)\n",
    "print('Accuracy : ', round(acc*100, 2))\n",
    "print('Confusion metrics :\\n', cm)"
   ]
  },
  {
   "cell_type": "markdown",
   "id": "54bba29b",
   "metadata": {},
   "source": [
    "# Model performance after applying PCA instead of using correlation"
   ]
  },
  {
   "cell_type": "markdown",
   "id": "5eeefae7",
   "metadata": {},
   "source": [
    "### PCA on features\n",
    "\n",
    "To remove dimensionality of the features"
   ]
  },
  {
   "cell_type": "code",
   "execution_count": 73,
   "id": "5990e976",
   "metadata": {},
   "outputs": [],
   "source": [
    "from sklearn.decomposition import PCA"
   ]
  },
  {
   "cell_type": "code",
   "execution_count": 74,
   "id": "d346ab7d",
   "metadata": {},
   "outputs": [],
   "source": [
    "features = data4_new.drop(['Patient ID', 'Disease'], axis = 1) #removing unneeded features for dimensionality reduction\n",
    "target = data4_new.Disease"
   ]
  },
  {
   "cell_type": "code",
   "execution_count": 75,
   "id": "b028e58c",
   "metadata": {},
   "outputs": [],
   "source": [
    "feature_pca = PCA(n_components = 0.95).fit_transform(features)"
   ]
  },
  {
   "cell_type": "markdown",
   "id": "52c1ce0e",
   "metadata": {},
   "source": [
    "### Oversampling"
   ]
  },
  {
   "cell_type": "code",
   "execution_count": 76,
   "id": "31f34f23",
   "metadata": {},
   "outputs": [
    {
     "name": "stdout",
     "output_type": "stream",
     "text": [
      "(2494, 8)\n",
      "(2494,)\n"
     ]
    }
   ],
   "source": [
    "from imblearn.over_sampling import SMOTE #to perform oversampling using SMOTE to remove class imbalance\n",
    "\n",
    "smote = SMOTE(random_state = 42)\n",
    "features_resampled, target_resampled = smote.fit_resample(feature_pca, target)\n",
    "\n",
    "print(features_resampled.shape)\n",
    "print(target_resampled.shape)"
   ]
  },
  {
   "cell_type": "code",
   "execution_count": 77,
   "id": "6f9d1050",
   "metadata": {},
   "outputs": [
    {
     "data": {
      "image/png": "[encoded data removed]",
      "text/plain": [
       "<Figure size 432x288 with 1 Axes>"
      ]
     },
     "metadata": {
      "needs_background": "light"
     },
     "output_type": "display_data"
    }
   ],
   "source": [
    "target_resampled.plot(kind = 'hist')\n",
    "plt.show()"
   ]
  },
  {
   "cell_type": "markdown",
   "id": "b9603ee9",
   "metadata": {},
   "source": [
    "## Train Test split (80:20)"
   ]
  },
  {
   "cell_type": "code",
   "execution_count": 78,
   "id": "6d80f05e",
   "metadata": {},
   "outputs": [
    {
     "name": "stdout",
     "output_type": "stream",
     "text": [
      "(1995, 8)\n",
      "(499, 8)\n",
      "(1995,)\n",
      "(499,)\n"
     ]
    }
   ],
   "source": [
    "from sklearn.model_selection import train_test_split\n",
    "\n",
    "x_train, x_val, y_train, y_val = train_test_split(features_resampled, target_resampled, test_size = 0.2, random_state = 42)\n",
    "\n",
    "print(x_train.shape)\n",
    "print(x_val.shape)\n",
    "print(y_train.shape)\n",
    "print(y_val.shape)"
   ]
  },
  {
   "cell_type": "code",
   "execution_count": 85,
   "id": "bb4500b6",
   "metadata": {},
   "outputs": [],
   "source": [
    "from sklearn.ensemble import GradientBoostingClassifier, AdaBoostClassifier\n",
    "from sklearn.ensemble import RandomForestClassifier\n",
    "from sklearn.metrics import accuracy_score, confusion_matrix"
   ]
  },
  {
   "cell_type": "code",
   "execution_count": 81,
   "id": "b2117269",
   "metadata": {},
   "outputs": [
    {
     "name": "stdout",
     "output_type": "stream",
     "text": [
      "Random Forest Classifier:\n",
      "Accuracy: 83.17\n",
      "Confusion metrics:\n",
      " [[245  19]\n",
      " [ 65 170]]\n"
     ]
    }
   ],
   "source": [
    "rf = RandomForestClassifier(random_state = 42).fit(x_train, y_train)\n",
    "y_pred_rf = rf.predict(x_val)\n",
    "y_proba_rf = rf.predict_proba(x_val)\n",
    "\n",
    "acc_rf = round(accuracy_score(y_val, y_pred_rf) * 100, 2)\n",
    "cm_rf = confusion_matrix(y_val, y_pred_rf)\n",
    "\n",
    "print('Random Forest Classifier:')\n",
    "print('Accuracy:', acc_rf)\n",
    "print('Confusion metrics:\\n', cm_rf)"
   ]
  },
  {
   "cell_type": "code",
   "execution_count": 82,
   "id": "c792d19a",
   "metadata": {},
   "outputs": [
    {
     "name": "stdout",
     "output_type": "stream",
     "text": [
      "Gradient Boosting Classifier:\n",
      "Accuracy: 82.16\n",
      "Confusion metrics:\n",
      " [[252  12]\n",
      " [ 77 158]]\n"
     ]
    }
   ],
   "source": [
    "bc = GradientBoostingClassifier(random_state = 42).fit(x_train, y_train)\n",
    "y_pred_gbc = gbc.predict(x_val)\n",
    "y_proba_gbc = gbc.predict_proba(x_val)\n",
    "\n",
    "acc_gbc = round(accuracy_score(y_val, y_pred_gbc) * 100, 2)\n",
    "cm_gbc = confusion_matrix(y_val, y_pred_gbc)\n",
    "\n",
    "print('Gradient Boosting Classifier:')\n",
    "print('Accuracy:', acc_gbc)\n",
    "print('Confusion metrics:\\n', cm_gbc)"
   ]
  },
  {
   "cell_type": "code",
   "execution_count": 84,
   "id": "672cd8bb",
   "metadata": {},
   "outputs": [
    {
     "name": "stdout",
     "output_type": "stream",
     "text": [
      "AdaBoost Classifier:\n",
      "Accuracy: 76.55\n",
      "Confusion metrics:\n",
      " [[227  37]\n",
      " [ 80 155]]\n"
     ]
    }
   ],
   "source": [
    "abc = AdaBoostClassifier(random_state = 42).fit(x_train, y_train)\n",
    "y_pred_abc = abc.predict(x_val)\n",
    "y_proba_abc = abc.predict_proba(x_val)\n",
    "\n",
    "acc_abc = round(accuracy_score(y_val, y_pred_abc) * 100, 2)\n",
    "cm_abc = confusion_matrix(y_val, y_pred_abc)\n",
    "\n",
    "print('AdaBoost Classifier:')\n",
    "print('Accuracy:', acc_abc)\n",
    "print('Confusion metrics:\\n', cm_abc)"
   ]
  },
  {
   "cell_type": "markdown",
   "id": "d823d884",
   "metadata": {},
   "source": [
    "## Ensemble System"
   ]
  },
  {
   "cell_type": "code",
   "execution_count": 86,
   "id": "68f3d513",
   "metadata": {},
   "outputs": [
    {
     "name": "stdout",
     "output_type": "stream",
     "text": [
      "Accuracy :  83.57\n",
      "Confusion metrics :\n",
      " [[250  14]\n",
      " [ 68 167]]\n"
     ]
    }
   ],
   "source": [
    "ensemble_proba2 = (y_proba_rf + y_proba_gbc + y_proba_abc)/3\n",
    "ensemble_pred2 = np.argmax(ensemble_proba2, axis = 1)\n",
    "\n",
    "acc = accuracy_score(y_val, ensemble_pred2)\n",
    "cm = confusion_matrix(y_val, ensemble_pred2)\n",
    "print('Accuracy : ', round(acc*100, 2))\n",
    "print('Confusion metrics :\\n', cm)"
   ]
  },
  {
   "cell_type": "markdown",
   "id": "f8500927",
   "metadata": {},
   "source": [
    "## Second Approach\n",
    "\n",
    "In this second approach, the continuous variables are categorised based on information provided in the provided articles.\n",
    "\n",
    "The missing values were removed in the same way as in the first approach\n",
    "\n",
    "The following were categorised: \n",
    "- Age into four categories: child, adolescent, adult and old.\n",
    "- Total_Bilirubin into three categories : healthy, elevated and high (article 1 and 2).\n",
    "- Alkaline_Phosphotase into two categories : normal and abnormal (article 4).\n",
    "- Alamine_Aminotransferase into two categories : normal and abnormal (article 4).\n",
    "- Albumin into two categories: normal and abnormal (article 4).\n",
    "- Albumin_and_Globulin_Ratio into two categories: normal and abnormal (the categories for Albumin_and_Globulin_Ratio were referenced from https://labs.selfdecode.com/blog/albumin-globulin-ratio/#:~:text=In%20general%2C%20an%20albumin%2Fglobulin,higher%20than%201%20%5B1%5D.).\n",
    "- Aspartate_Aminotransferase into two categories: normal and high (article 3) corresponding to values specified for children and adults.\n",
    "- Total_Protiens into two categories: normal and abnormal (article 4).\n",
    "- Alamine_Aminotransferase into two categories (article 4).\n",
    "\n",
    "Two methods were used to reduce the dimensionality of the data and the data was oversampled by using smote after which model training and evaluation of the ensemble system was performed: \n",
    "\n",
    "1. Dimensionality reduction using correlation: the achieved accuracy was 77.56%\n",
    "2. Dimensionality reduction using PCA explaining 95% variance: the achieved accuracy was 83.57%\n"
   ]
  },
  {
   "cell_type": "markdown",
   "id": "de01376d",
   "metadata": {},
   "source": [
    "## Approach Comparison\n",
    "\n",
    "The first approach yielded better results in terms of accuracy and confusion matrix over the second approach.\n",
    "\n",
    "This may be because the second approach may have introduced additional noise or complexity into the dataset, making it harder for the classifiers to identify the most important features for predicting liver disease."
   ]
  },
  {
   "cell_type": "code",
   "execution_count": null,
   "id": "856565ba",
   "metadata": {},
   "outputs": [],
   "source": []
  }
 ],
 "metadata": {
  "kernelspec": {
   "display_name": "Python 3 (ipykernel)",
   "language": "python",
   "name": "python3"
  },
  "language_info": {
   "codemirror_mode": {
    "name": "ipython",
    "version": 3
   },
   "file_extension": ".py",
   "mimetype": "text/x-python",
   "name": "python",
   "nbconvert_exporter": "python",
   "pygments_lexer": "ipython3",
   "version": "3.9.13"
  }
 },
 "nbformat": 4,
 "nbformat_minor": 5
}
